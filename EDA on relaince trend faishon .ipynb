{
 "cells": [
  {
   "cell_type": "markdown",
   "id": "557b4b52",
   "metadata": {},
   "source": [
    "# Importing the Libraries "
   ]
  },
  {
   "cell_type": "code",
   "execution_count": 1,
   "id": "08e78d53",
   "metadata": {},
   "outputs": [],
   "source": [
    "import numpy as np\n",
    "import pandas as pd \n",
    "import matplotlib.pyplot as plt \n",
    "import seaborn as sns "
   ]
  },
  {
   "cell_type": "code",
   "execution_count": 2,
   "id": "ed52532f",
   "metadata": {},
   "outputs": [
    {
     "data": {
      "text/html": [
       "<div>\n",
       "<style scoped>\n",
       "    .dataframe tbody tr th:only-of-type {\n",
       "        vertical-align: middle;\n",
       "    }\n",
       "\n",
       "    .dataframe tbody tr th {\n",
       "        vertical-align: top;\n",
       "    }\n",
       "\n",
       "    .dataframe thead th {\n",
       "        text-align: right;\n",
       "    }\n",
       "</style>\n",
       "<table border=\"1\" class=\"dataframe\">\n",
       "  <thead>\n",
       "    <tr style=\"text-align: right;\">\n",
       "      <th></th>\n",
       "      <th>Brand</th>\n",
       "      <th>Description</th>\n",
       "      <th>Image_URL</th>\n",
       "      <th>Product_ID</th>\n",
       "      <th>Discount_Price (in Rs.)</th>\n",
       "      <th>Original_Price (in Rs.)</th>\n",
       "      <th>Product_URL</th>\n",
       "      <th>Category_by_gender</th>\n",
       "      <th>Category</th>\n",
       "    </tr>\n",
       "  </thead>\n",
       "  <tbody>\n",
       "    <tr>\n",
       "      <th>0</th>\n",
       "      <td>performax</td>\n",
       "      <td>Typographic Print Track Pants with Insert Pockets</td>\n",
       "      <td>https://assets.ajio.com/medias/sys_master/root...</td>\n",
       "      <td>441136763008</td>\n",
       "      <td>974</td>\n",
       "      <td>1,299</td>\n",
       "      <td>https://trends.ajio.com/performax-typographic-...</td>\n",
       "      <td>Men</td>\n",
       "      <td>Activewear</td>\n",
       "    </tr>\n",
       "    <tr>\n",
       "      <th>1</th>\n",
       "      <td>performax</td>\n",
       "      <td>Low-Top Lace-Up Sports Shoes</td>\n",
       "      <td>https://assets.ajio.com/medias/sys_master/root...</td>\n",
       "      <td>450137679013</td>\n",
       "      <td>1,499</td>\n",
       "      <td>1,499</td>\n",
       "      <td>https://trends.ajio.com/performax-low-top-lace...</td>\n",
       "      <td>Men</td>\n",
       "      <td>Activewear</td>\n",
       "    </tr>\n",
       "    <tr>\n",
       "      <th>2</th>\n",
       "      <td>teamspirit</td>\n",
       "      <td>Colorblock Crew-Neck T-shirt</td>\n",
       "      <td>https://assets.ajio.com/medias/sys_master/root...</td>\n",
       "      <td>441133214008</td>\n",
       "      <td>461</td>\n",
       "      <td>549</td>\n",
       "      <td>https://trends.ajio.com/teamspirit-colorblock-...</td>\n",
       "      <td>Men</td>\n",
       "      <td>Activewear</td>\n",
       "    </tr>\n",
       "    <tr>\n",
       "      <th>3</th>\n",
       "      <td>performax</td>\n",
       "      <td>Camouflage Print Joggers with Insert Pockets</td>\n",
       "      <td>https://assets.ajio.com/medias/sys_master/root...</td>\n",
       "      <td>441134776020</td>\n",
       "      <td>1,189</td>\n",
       "      <td>1,699</td>\n",
       "      <td>https://trends.ajio.com/performax-camouflage-p...</td>\n",
       "      <td>Men</td>\n",
       "      <td>Activewear</td>\n",
       "    </tr>\n",
       "    <tr>\n",
       "      <th>4</th>\n",
       "      <td>teamspirit</td>\n",
       "      <td>Reflective Colourblock Crew-Neck T-shirt</td>\n",
       "      <td>https://assets.ajio.com/medias/sys_master/root...</td>\n",
       "      <td>441136539020</td>\n",
       "      <td>425</td>\n",
       "      <td>599</td>\n",
       "      <td>https://trends.ajio.com/teamspirit-reflective-...</td>\n",
       "      <td>Men</td>\n",
       "      <td>Activewear</td>\n",
       "    </tr>\n",
       "  </tbody>\n",
       "</table>\n",
       "</div>"
      ],
      "text/plain": [
       "        Brand                                        Description  \\\n",
       "0   performax  Typographic Print Track Pants with Insert Pockets   \n",
       "1   performax                       Low-Top Lace-Up Sports Shoes   \n",
       "2  teamspirit                       Colorblock Crew-Neck T-shirt   \n",
       "3   performax       Camouflage Print Joggers with Insert Pockets   \n",
       "4  teamspirit           Reflective Colourblock Crew-Neck T-shirt   \n",
       "\n",
       "                                           Image_URL    Product_ID  \\\n",
       "0  https://assets.ajio.com/medias/sys_master/root...  441136763008   \n",
       "1  https://assets.ajio.com/medias/sys_master/root...  450137679013   \n",
       "2  https://assets.ajio.com/medias/sys_master/root...  441133214008   \n",
       "3  https://assets.ajio.com/medias/sys_master/root...  441134776020   \n",
       "4  https://assets.ajio.com/medias/sys_master/root...  441136539020   \n",
       "\n",
       "  Discount_Price (in Rs.) Original_Price (in Rs.)  \\\n",
       "0                     974                   1,299   \n",
       "1                   1,499                   1,499   \n",
       "2                     461                     549   \n",
       "3                   1,189                   1,699   \n",
       "4                     425                     599   \n",
       "\n",
       "                                         Product_URL Category_by_gender  \\\n",
       "0  https://trends.ajio.com/performax-typographic-...                Men   \n",
       "1  https://trends.ajio.com/performax-low-top-lace...                Men   \n",
       "2  https://trends.ajio.com/teamspirit-colorblock-...                Men   \n",
       "3  https://trends.ajio.com/performax-camouflage-p...                Men   \n",
       "4  https://trends.ajio.com/teamspirit-reflective-...                Men   \n",
       "\n",
       "     Category  \n",
       "0  Activewear  \n",
       "1  Activewear  \n",
       "2  Activewear  \n",
       "3  Activewear  \n",
       "4  Activewear  "
      ]
     },
     "execution_count": 2,
     "metadata": {},
     "output_type": "execute_result"
    }
   ],
   "source": [
    "df =  pd.read_csv(\"Reliance Trends Fashion.csv\")\n",
    "df.head()"
   ]
  },
  {
   "cell_type": "code",
   "execution_count": 3,
   "id": "72598281",
   "metadata": {},
   "outputs": [
    {
     "name": "stdout",
     "output_type": "stream",
     "text": [
      "No. of rows  31582\n",
      "No. of columns  9\n"
     ]
    }
   ],
   "source": [
    "print(\"No. of rows \" , df.shape[0])\n",
    "print(\"No. of columns \" , df.shape[1])"
   ]
  },
  {
   "cell_type": "markdown",
   "id": "b735be37",
   "metadata": {},
   "source": [
    "# GETTING INFORMATION ABOUT OUR DATASET LIKE TOTAL NUMBER OF ROWS , TOTAL NUMBER OF COLUMNS DATA TYPE OF EACH COLUMNS AND MEMORY REQUIREMENT "
   ]
  },
  {
   "cell_type": "code",
   "execution_count": 4,
   "id": "32b24b2f",
   "metadata": {},
   "outputs": [
    {
     "name": "stdout",
     "output_type": "stream",
     "text": [
      "<class 'pandas.core.frame.DataFrame'>\n",
      "RangeIndex: 31582 entries, 0 to 31581\n",
      "Data columns (total 9 columns):\n",
      " #   Column                   Non-Null Count  Dtype \n",
      "---  ------                   --------------  ----- \n",
      " 0   Brand                    31582 non-null  object\n",
      " 1   Description              31582 non-null  object\n",
      " 2   Image_URL                31582 non-null  object\n",
      " 3   Product_ID               31582 non-null  int64 \n",
      " 4   Discount_Price (in Rs.)  31582 non-null  object\n",
      " 5   Original_Price (in Rs.)  31582 non-null  object\n",
      " 6   Product_URL              31582 non-null  object\n",
      " 7   Category_by_gender       31582 non-null  object\n",
      " 8   Category                 31582 non-null  object\n",
      "dtypes: int64(1), object(8)\n",
      "memory usage: 2.2+ MB\n"
     ]
    }
   ],
   "source": [
    "df.info()"
   ]
  },
  {
   "cell_type": "code",
   "execution_count": 5,
   "id": "0a925f78",
   "metadata": {},
   "outputs": [],
   "source": [
    "# As we see that our Discount price and the Orignal price are in object\n",
    "#   it should be in float type but for that we have tp remove ','\n",
    " ## and change it into float type "
   ]
  },
  {
   "cell_type": "code",
   "execution_count": 6,
   "id": "bb76ec40",
   "metadata": {},
   "outputs": [],
   "source": [
    "df['Discount_Price (in Rs.)'] =  df['Discount_Price (in Rs.)'].str.replace(',' , '')\n",
    "\n",
    "df['Original_Price (in Rs.)'] = df['Original_Price (in Rs.)'].str.replace(',' , '')"
   ]
  },
  {
   "cell_type": "code",
   "execution_count": 7,
   "id": "e179fb05",
   "metadata": {},
   "outputs": [],
   "source": [
    "# changing it to float type \n",
    "df['Discount_Price (in Rs.)'] =df['Discount_Price (in Rs.)'].astype('float')\n",
    "df['Original_Price (in Rs.)'] = df['Original_Price (in Rs.)'].astype('float')"
   ]
  },
  {
   "cell_type": "code",
   "execution_count": 8,
   "id": "05f49db3",
   "metadata": {},
   "outputs": [
    {
     "data": {
      "text/html": [
       "<div>\n",
       "<style scoped>\n",
       "    .dataframe tbody tr th:only-of-type {\n",
       "        vertical-align: middle;\n",
       "    }\n",
       "\n",
       "    .dataframe tbody tr th {\n",
       "        vertical-align: top;\n",
       "    }\n",
       "\n",
       "    .dataframe thead th {\n",
       "        text-align: right;\n",
       "    }\n",
       "</style>\n",
       "<table border=\"1\" class=\"dataframe\">\n",
       "  <thead>\n",
       "    <tr style=\"text-align: right;\">\n",
       "      <th></th>\n",
       "      <th>Brand</th>\n",
       "      <th>Description</th>\n",
       "      <th>Image_URL</th>\n",
       "      <th>Product_ID</th>\n",
       "      <th>Discount_Price (in Rs.)</th>\n",
       "      <th>Original_Price (in Rs.)</th>\n",
       "      <th>Product_URL</th>\n",
       "      <th>Category_by_gender</th>\n",
       "      <th>Category</th>\n",
       "    </tr>\n",
       "  </thead>\n",
       "  <tbody>\n",
       "    <tr>\n",
       "      <th>0</th>\n",
       "      <td>performax</td>\n",
       "      <td>Typographic Print Track Pants with Insert Pockets</td>\n",
       "      <td>https://assets.ajio.com/medias/sys_master/root...</td>\n",
       "      <td>441136763008</td>\n",
       "      <td>974.0</td>\n",
       "      <td>1299.0</td>\n",
       "      <td>https://trends.ajio.com/performax-typographic-...</td>\n",
       "      <td>Men</td>\n",
       "      <td>Activewear</td>\n",
       "    </tr>\n",
       "    <tr>\n",
       "      <th>1</th>\n",
       "      <td>performax</td>\n",
       "      <td>Low-Top Lace-Up Sports Shoes</td>\n",
       "      <td>https://assets.ajio.com/medias/sys_master/root...</td>\n",
       "      <td>450137679013</td>\n",
       "      <td>1499.0</td>\n",
       "      <td>1499.0</td>\n",
       "      <td>https://trends.ajio.com/performax-low-top-lace...</td>\n",
       "      <td>Men</td>\n",
       "      <td>Activewear</td>\n",
       "    </tr>\n",
       "    <tr>\n",
       "      <th>2</th>\n",
       "      <td>teamspirit</td>\n",
       "      <td>Colorblock Crew-Neck T-shirt</td>\n",
       "      <td>https://assets.ajio.com/medias/sys_master/root...</td>\n",
       "      <td>441133214008</td>\n",
       "      <td>461.0</td>\n",
       "      <td>549.0</td>\n",
       "      <td>https://trends.ajio.com/teamspirit-colorblock-...</td>\n",
       "      <td>Men</td>\n",
       "      <td>Activewear</td>\n",
       "    </tr>\n",
       "    <tr>\n",
       "      <th>3</th>\n",
       "      <td>performax</td>\n",
       "      <td>Camouflage Print Joggers with Insert Pockets</td>\n",
       "      <td>https://assets.ajio.com/medias/sys_master/root...</td>\n",
       "      <td>441134776020</td>\n",
       "      <td>1189.0</td>\n",
       "      <td>1699.0</td>\n",
       "      <td>https://trends.ajio.com/performax-camouflage-p...</td>\n",
       "      <td>Men</td>\n",
       "      <td>Activewear</td>\n",
       "    </tr>\n",
       "    <tr>\n",
       "      <th>4</th>\n",
       "      <td>teamspirit</td>\n",
       "      <td>Reflective Colourblock Crew-Neck T-shirt</td>\n",
       "      <td>https://assets.ajio.com/medias/sys_master/root...</td>\n",
       "      <td>441136539020</td>\n",
       "      <td>425.0</td>\n",
       "      <td>599.0</td>\n",
       "      <td>https://trends.ajio.com/teamspirit-reflective-...</td>\n",
       "      <td>Men</td>\n",
       "      <td>Activewear</td>\n",
       "    </tr>\n",
       "  </tbody>\n",
       "</table>\n",
       "</div>"
      ],
      "text/plain": [
       "        Brand                                        Description  \\\n",
       "0   performax  Typographic Print Track Pants with Insert Pockets   \n",
       "1   performax                       Low-Top Lace-Up Sports Shoes   \n",
       "2  teamspirit                       Colorblock Crew-Neck T-shirt   \n",
       "3   performax       Camouflage Print Joggers with Insert Pockets   \n",
       "4  teamspirit           Reflective Colourblock Crew-Neck T-shirt   \n",
       "\n",
       "                                           Image_URL    Product_ID  \\\n",
       "0  https://assets.ajio.com/medias/sys_master/root...  441136763008   \n",
       "1  https://assets.ajio.com/medias/sys_master/root...  450137679013   \n",
       "2  https://assets.ajio.com/medias/sys_master/root...  441133214008   \n",
       "3  https://assets.ajio.com/medias/sys_master/root...  441134776020   \n",
       "4  https://assets.ajio.com/medias/sys_master/root...  441136539020   \n",
       "\n",
       "   Discount_Price (in Rs.)  Original_Price (in Rs.)  \\\n",
       "0                    974.0                   1299.0   \n",
       "1                   1499.0                   1499.0   \n",
       "2                    461.0                    549.0   \n",
       "3                   1189.0                   1699.0   \n",
       "4                    425.0                    599.0   \n",
       "\n",
       "                                         Product_URL Category_by_gender  \\\n",
       "0  https://trends.ajio.com/performax-typographic-...                Men   \n",
       "1  https://trends.ajio.com/performax-low-top-lace...                Men   \n",
       "2  https://trends.ajio.com/teamspirit-colorblock-...                Men   \n",
       "3  https://trends.ajio.com/performax-camouflage-p...                Men   \n",
       "4  https://trends.ajio.com/teamspirit-reflective-...                Men   \n",
       "\n",
       "     Category  \n",
       "0  Activewear  \n",
       "1  Activewear  \n",
       "2  Activewear  \n",
       "3  Activewear  \n",
       "4  Activewear  "
      ]
     },
     "execution_count": 8,
     "metadata": {},
     "output_type": "execute_result"
    }
   ],
   "source": [
    "df.head()"
   ]
  },
  {
   "cell_type": "code",
   "execution_count": 9,
   "id": "82476b66",
   "metadata": {},
   "outputs": [
    {
     "name": "stdout",
     "output_type": "stream",
     "text": [
      "<class 'pandas.core.frame.DataFrame'>\n",
      "RangeIndex: 31582 entries, 0 to 31581\n",
      "Data columns (total 9 columns):\n",
      " #   Column                   Non-Null Count  Dtype  \n",
      "---  ------                   --------------  -----  \n",
      " 0   Brand                    31582 non-null  object \n",
      " 1   Description              31582 non-null  object \n",
      " 2   Image_URL                31582 non-null  object \n",
      " 3   Product_ID               31582 non-null  int64  \n",
      " 4   Discount_Price (in Rs.)  31582 non-null  float64\n",
      " 5   Original_Price (in Rs.)  31582 non-null  float64\n",
      " 6   Product_URL              31582 non-null  object \n",
      " 7   Category_by_gender       31582 non-null  object \n",
      " 8   Category                 31582 non-null  object \n",
      "dtypes: float64(2), int64(1), object(6)\n",
      "memory usage: 2.2+ MB\n"
     ]
    }
   ],
   "source": [
    "df.info()"
   ]
  },
  {
   "cell_type": "code",
   "execution_count": 10,
   "id": "941e86fc",
   "metadata": {},
   "outputs": [],
   "source": [
    "## here as we see that our both values has been changed into float "
   ]
  },
  {
   "cell_type": "code",
   "execution_count": 11,
   "id": "50f58cfc",
   "metadata": {},
   "outputs": [
    {
     "data": {
      "text/plain": [
       "Brand                      0\n",
       "Description                0\n",
       "Image_URL                  0\n",
       "Product_ID                 0\n",
       "Discount_Price (in Rs.)    0\n",
       "Original_Price (in Rs.)    0\n",
       "Product_URL                0\n",
       "Category_by_gender         0\n",
       "Category                   0\n",
       "dtype: int64"
      ]
     },
     "execution_count": 11,
     "metadata": {},
     "output_type": "execute_result"
    }
   ],
   "source": [
    "## checking the null values \n",
    "df.isnull().sum()"
   ]
  },
  {
   "cell_type": "markdown",
   "id": "1ff95a5b",
   "metadata": {},
   "source": [
    "as we see that there is no null value present in our data set "
   ]
  },
  {
   "cell_type": "code",
   "execution_count": 12,
   "id": "ea4ec71e",
   "metadata": {},
   "outputs": [
    {
     "data": {
      "text/plain": [
       "564"
      ]
     },
     "execution_count": 12,
     "metadata": {},
     "output_type": "execute_result"
    }
   ],
   "source": [
    "## checking the duplicates value \n",
    "df.duplicated().sum()"
   ]
  },
  {
   "cell_type": "markdown",
   "id": "4531d2a8",
   "metadata": {},
   "source": [
    "as we see that there are 564 duplicates values that are present in our data set . so we gonna drop all of those duplicate value "
   ]
  },
  {
   "cell_type": "code",
   "execution_count": 13,
   "id": "abbf910f",
   "metadata": {},
   "outputs": [],
   "source": [
    "df.drop_duplicates(inplace=True)"
   ]
  },
  {
   "cell_type": "code",
   "execution_count": 14,
   "id": "4e52acae",
   "metadata": {},
   "outputs": [
    {
     "data": {
      "text/plain": [
       "0"
      ]
     },
     "execution_count": 14,
     "metadata": {},
     "output_type": "execute_result"
    }
   ],
   "source": [
    "df.duplicated().sum()"
   ]
  },
  {
   "cell_type": "markdown",
   "id": "75db7ef2",
   "metadata": {},
   "source": [
    "as you can see that we have dropped all of the duplicate value those are present in out data set and also they are not useful for the part of the data analysis "
   ]
  },
  {
   "cell_type": "code",
   "execution_count": 15,
   "id": "a0869d34",
   "metadata": {},
   "outputs": [
    {
     "data": {
      "text/html": [
       "<div>\n",
       "<style scoped>\n",
       "    .dataframe tbody tr th:only-of-type {\n",
       "        vertical-align: middle;\n",
       "    }\n",
       "\n",
       "    .dataframe tbody tr th {\n",
       "        vertical-align: top;\n",
       "    }\n",
       "\n",
       "    .dataframe thead th {\n",
       "        text-align: right;\n",
       "    }\n",
       "</style>\n",
       "<table border=\"1\" class=\"dataframe\">\n",
       "  <thead>\n",
       "    <tr style=\"text-align: right;\">\n",
       "      <th></th>\n",
       "      <th>Brand</th>\n",
       "      <th>Description</th>\n",
       "      <th>Image_URL</th>\n",
       "      <th>Product_ID</th>\n",
       "      <th>Discount_Price (in Rs.)</th>\n",
       "      <th>Original_Price (in Rs.)</th>\n",
       "      <th>Product_URL</th>\n",
       "      <th>Category_by_gender</th>\n",
       "      <th>Category</th>\n",
       "    </tr>\n",
       "  </thead>\n",
       "  <tbody>\n",
       "    <tr>\n",
       "      <th>26229</th>\n",
       "      <td>rio</td>\n",
       "      <td>Butterfly Print Crew-Neck T-shirt</td>\n",
       "      <td>https://assets.ajio.com/medias/sys_master/root...</td>\n",
       "      <td>441139677002</td>\n",
       "      <td>359.0</td>\n",
       "      <td>399.0</td>\n",
       "      <td>https://trends.ajio.com/rio-butterfly-print-cr...</td>\n",
       "      <td>Women</td>\n",
       "      <td>Westernwear</td>\n",
       "    </tr>\n",
       "    <tr>\n",
       "      <th>16402</th>\n",
       "      <td>avaasa-mix-n-match</td>\n",
       "      <td>Embroidered Straight Kurta with Notched Neckline</td>\n",
       "      <td>https://assets.ajio.com/medias/sys_master/root...</td>\n",
       "      <td>441115988003</td>\n",
       "      <td>300.0</td>\n",
       "      <td>999.0</td>\n",
       "      <td>https://trends.ajio.com/avaasa-mix-n-match-emb...</td>\n",
       "      <td>Women</td>\n",
       "      <td>Ethnicwear</td>\n",
       "    </tr>\n",
       "    <tr>\n",
       "      <th>30881</th>\n",
       "      <td>aero-jeans-womens</td>\n",
       "      <td>Checked Shirt with Flap Pockets</td>\n",
       "      <td>https://assets.ajio.com/medias/sys_master/root...</td>\n",
       "      <td>441021295001</td>\n",
       "      <td>1199.0</td>\n",
       "      <td>1199.0</td>\n",
       "      <td>https://trends.ajio.com/aero-jeans-womens-chec...</td>\n",
       "      <td>Women</td>\n",
       "      <td>Westernwear</td>\n",
       "    </tr>\n",
       "    <tr>\n",
       "      <th>21965</th>\n",
       "      <td>hi-attitude</td>\n",
       "      <td>Square-Toe Ballerinas with Metallic Accent</td>\n",
       "      <td>https://assets.ajio.com/medias/sys_master/root...</td>\n",
       "      <td>450142385002</td>\n",
       "      <td>799.0</td>\n",
       "      <td>799.0</td>\n",
       "      <td>https://trends.ajio.com/hi-attitude-square-toe...</td>\n",
       "      <td>Women</td>\n",
       "      <td>Footwear</td>\n",
       "    </tr>\n",
       "    <tr>\n",
       "      <th>10698</th>\n",
       "      <td>ecko</td>\n",
       "      <td>Typographic Print Slim Fit Crew-Neck T-shirt</td>\n",
       "      <td>https://assets.ajio.com/medias/sys_master/root...</td>\n",
       "      <td>441038987003</td>\n",
       "      <td>275.0</td>\n",
       "      <td>549.0</td>\n",
       "      <td>https://trends.ajio.com/ecko-typographic-print...</td>\n",
       "      <td>Men</td>\n",
       "      <td>Topwear</td>\n",
       "    </tr>\n",
       "    <tr>\n",
       "      <th>...</th>\n",
       "      <td>...</td>\n",
       "      <td>...</td>\n",
       "      <td>...</td>\n",
       "      <td>...</td>\n",
       "      <td>...</td>\n",
       "      <td>...</td>\n",
       "      <td>...</td>\n",
       "      <td>...</td>\n",
       "      <td>...</td>\n",
       "    </tr>\n",
       "    <tr>\n",
       "      <th>28778</th>\n",
       "      <td>dnmx</td>\n",
       "      <td>Typographic Print Crew-Neck T-shirt</td>\n",
       "      <td>https://assets.ajio.com/medias/sys_master/root...</td>\n",
       "      <td>441117423003</td>\n",
       "      <td>239.0</td>\n",
       "      <td>299.0</td>\n",
       "      <td>https://trends.ajio.com/dnmx-typographic-print...</td>\n",
       "      <td>Women</td>\n",
       "      <td>Westernwear</td>\n",
       "    </tr>\n",
       "    <tr>\n",
       "      <th>14555</th>\n",
       "      <td>teamspirit</td>\n",
       "      <td>Heathered Track Pants with Insert Pockets</td>\n",
       "      <td>https://assets.ajio.com/medias/sys_master/root...</td>\n",
       "      <td>441131064023</td>\n",
       "      <td>587.0</td>\n",
       "      <td>699.0</td>\n",
       "      <td>https://trends.ajio.com/teamspirit-heathered-t...</td>\n",
       "      <td>Women</td>\n",
       "      <td>Activewear</td>\n",
       "    </tr>\n",
       "    <tr>\n",
       "      <th>3567</th>\n",
       "      <td>proline</td>\n",
       "      <td>Heathered Shorts with Zip Pockets</td>\n",
       "      <td>https://assets.ajio.com/medias/sys_master/root...</td>\n",
       "      <td>440965292004</td>\n",
       "      <td>629.0</td>\n",
       "      <td>699.0</td>\n",
       "      <td>https://trends.ajio.com/proline-heathered-shor...</td>\n",
       "      <td>Men</td>\n",
       "      <td>Bottomwear</td>\n",
       "    </tr>\n",
       "    <tr>\n",
       "      <th>23541</th>\n",
       "      <td>inblu</td>\n",
       "      <td>T-Strap Slip-On Flat Sandals with Buckle</td>\n",
       "      <td>https://assets.ajio.com/medias/sys_master/root...</td>\n",
       "      <td>450119323008</td>\n",
       "      <td>499.0</td>\n",
       "      <td>499.0</td>\n",
       "      <td>https://trends.ajio.com/inblu-t-strap-slip-on-...</td>\n",
       "      <td>Women</td>\n",
       "      <td>Footwear</td>\n",
       "    </tr>\n",
       "    <tr>\n",
       "      <th>9698</th>\n",
       "      <td>john-players</td>\n",
       "      <td>Solid Shirt with Patch Pocket</td>\n",
       "      <td>https://assets.ajio.com/medias/sys_master/root...</td>\n",
       "      <td>441135045016</td>\n",
       "      <td>750.0</td>\n",
       "      <td>1499.0</td>\n",
       "      <td>https://trends.ajio.com/john-players-solid-shi...</td>\n",
       "      <td>Men</td>\n",
       "      <td>Topwear</td>\n",
       "    </tr>\n",
       "  </tbody>\n",
       "</table>\n",
       "<p>15509 rows × 9 columns</p>\n",
       "</div>"
      ],
      "text/plain": [
       "                    Brand                                       Description  \\\n",
       "26229                 rio                 Butterfly Print Crew-Neck T-shirt   \n",
       "16402  avaasa-mix-n-match  Embroidered Straight Kurta with Notched Neckline   \n",
       "30881   aero-jeans-womens                   Checked Shirt with Flap Pockets   \n",
       "21965         hi-attitude        Square-Toe Ballerinas with Metallic Accent   \n",
       "10698                ecko      Typographic Print Slim Fit Crew-Neck T-shirt   \n",
       "...                   ...                                               ...   \n",
       "28778                dnmx               Typographic Print Crew-Neck T-shirt   \n",
       "14555          teamspirit         Heathered Track Pants with Insert Pockets   \n",
       "3567              proline                 Heathered Shorts with Zip Pockets   \n",
       "23541               inblu          T-Strap Slip-On Flat Sandals with Buckle   \n",
       "9698         john-players                     Solid Shirt with Patch Pocket   \n",
       "\n",
       "                                               Image_URL    Product_ID  \\\n",
       "26229  https://assets.ajio.com/medias/sys_master/root...  441139677002   \n",
       "16402  https://assets.ajio.com/medias/sys_master/root...  441115988003   \n",
       "30881  https://assets.ajio.com/medias/sys_master/root...  441021295001   \n",
       "21965  https://assets.ajio.com/medias/sys_master/root...  450142385002   \n",
       "10698  https://assets.ajio.com/medias/sys_master/root...  441038987003   \n",
       "...                                                  ...           ...   \n",
       "28778  https://assets.ajio.com/medias/sys_master/root...  441117423003   \n",
       "14555  https://assets.ajio.com/medias/sys_master/root...  441131064023   \n",
       "3567   https://assets.ajio.com/medias/sys_master/root...  440965292004   \n",
       "23541  https://assets.ajio.com/medias/sys_master/root...  450119323008   \n",
       "9698   https://assets.ajio.com/medias/sys_master/root...  441135045016   \n",
       "\n",
       "       Discount_Price (in Rs.)  Original_Price (in Rs.)  \\\n",
       "26229                    359.0                    399.0   \n",
       "16402                    300.0                    999.0   \n",
       "30881                   1199.0                   1199.0   \n",
       "21965                    799.0                    799.0   \n",
       "10698                    275.0                    549.0   \n",
       "...                        ...                      ...   \n",
       "28778                    239.0                    299.0   \n",
       "14555                    587.0                    699.0   \n",
       "3567                     629.0                    699.0   \n",
       "23541                    499.0                    499.0   \n",
       "9698                     750.0                   1499.0   \n",
       "\n",
       "                                             Product_URL Category_by_gender  \\\n",
       "26229  https://trends.ajio.com/rio-butterfly-print-cr...              Women   \n",
       "16402  https://trends.ajio.com/avaasa-mix-n-match-emb...              Women   \n",
       "30881  https://trends.ajio.com/aero-jeans-womens-chec...              Women   \n",
       "21965  https://trends.ajio.com/hi-attitude-square-toe...              Women   \n",
       "10698  https://trends.ajio.com/ecko-typographic-print...                Men   \n",
       "...                                                  ...                ...   \n",
       "28778  https://trends.ajio.com/dnmx-typographic-print...              Women   \n",
       "14555  https://trends.ajio.com/teamspirit-heathered-t...              Women   \n",
       "3567   https://trends.ajio.com/proline-heathered-shor...                Men   \n",
       "23541  https://trends.ajio.com/inblu-t-strap-slip-on-...              Women   \n",
       "9698   https://trends.ajio.com/john-players-solid-shi...                Men   \n",
       "\n",
       "          Category  \n",
       "26229  Westernwear  \n",
       "16402   Ethnicwear  \n",
       "30881  Westernwear  \n",
       "21965     Footwear  \n",
       "10698      Topwear  \n",
       "...            ...  \n",
       "28778  Westernwear  \n",
       "14555   Activewear  \n",
       "3567    Bottomwear  \n",
       "23541     Footwear  \n",
       "9698       Topwear  \n",
       "\n",
       "[15509 rows x 9 columns]"
      ]
     },
     "execution_count": 15,
     "metadata": {},
     "output_type": "execute_result"
    }
   ],
   "source": [
    "## fetching the random sample of the data set (50%)\n",
    "df.sample(frac = 0.50)\n",
    "## but if you are apply it to every time the value shouold be changed "
   ]
  },
  {
   "cell_type": "code",
   "execution_count": 16,
   "id": "b211a812",
   "metadata": {},
   "outputs": [],
   "source": [
    "## again we are checking the null value via heatmap \n"
   ]
  },
  {
   "cell_type": "code",
   "execution_count": 17,
   "id": "cad840a1",
   "metadata": {},
   "outputs": [
    {
     "data": {
      "text/plain": [
       "<AxesSubplot:>"
      ]
     },
     "execution_count": 17,
     "metadata": {},
     "output_type": "execute_result"
    },
    {
     "data": {
      "image/png": "[encoded data removed]",
      "text/plain": [
       "<Figure size 432x288 with 2 Axes>"
      ]
     },
     "metadata": {
      "needs_background": "light"
     },
     "output_type": "display_data"
    }
   ],
   "source": [
    "sns.heatmap(df.isnull())"
   ]
  },
  {
   "cell_type": "markdown",
   "id": "eb29906e",
   "metadata": {},
   "source": [
    "as we can also see in the heat map that there are no any null value are present in our dataset "
   ]
  },
  {
   "cell_type": "code",
   "execution_count": 18,
   "id": "83e6ccbd",
   "metadata": {},
   "outputs": [
    {
     "data": {
      "text/html": [
       "<div>\n",
       "<style scoped>\n",
       "    .dataframe tbody tr th:only-of-type {\n",
       "        vertical-align: middle;\n",
       "    }\n",
       "\n",
       "    .dataframe tbody tr th {\n",
       "        vertical-align: top;\n",
       "    }\n",
       "\n",
       "    .dataframe thead th {\n",
       "        text-align: right;\n",
       "    }\n",
       "</style>\n",
       "<table border=\"1\" class=\"dataframe\">\n",
       "  <thead>\n",
       "    <tr style=\"text-align: right;\">\n",
       "      <th></th>\n",
       "      <th>Brand</th>\n",
       "      <th>Description</th>\n",
       "      <th>Image_URL</th>\n",
       "      <th>Product_ID</th>\n",
       "      <th>Discount_Price (in Rs.)</th>\n",
       "      <th>Original_Price (in Rs.)</th>\n",
       "      <th>Product_URL</th>\n",
       "      <th>Category_by_gender</th>\n",
       "      <th>Category</th>\n",
       "    </tr>\n",
       "  </thead>\n",
       "  <tbody>\n",
       "    <tr>\n",
       "      <th>count</th>\n",
       "      <td>31018</td>\n",
       "      <td>31018</td>\n",
       "      <td>31018</td>\n",
       "      <td>3.101800e+04</td>\n",
       "      <td>31018.000000</td>\n",
       "      <td>31018.000000</td>\n",
       "      <td>31018</td>\n",
       "      <td>31018</td>\n",
       "      <td>31018</td>\n",
       "    </tr>\n",
       "    <tr>\n",
       "      <th>unique</th>\n",
       "      <td>191</td>\n",
       "      <td>11771</td>\n",
       "      <td>28942</td>\n",
       "      <td>NaN</td>\n",
       "      <td>NaN</td>\n",
       "      <td>NaN</td>\n",
       "      <td>28941</td>\n",
       "      <td>2</td>\n",
       "      <td>9</td>\n",
       "    </tr>\n",
       "    <tr>\n",
       "      <th>top</th>\n",
       "      <td>performax</td>\n",
       "      <td>Checked Slim Fit Shirt with Patch Pocket</td>\n",
       "      <td>https://assets.ajio.com/medias/sys_master/root...</td>\n",
       "      <td>NaN</td>\n",
       "      <td>NaN</td>\n",
       "      <td>NaN</td>\n",
       "      <td>https://trends.ajio.com/performax-washable-per...</td>\n",
       "      <td>Women</td>\n",
       "      <td>Topwear</td>\n",
       "    </tr>\n",
       "    <tr>\n",
       "      <th>freq</th>\n",
       "      <td>3020</td>\n",
       "      <td>553</td>\n",
       "      <td>4</td>\n",
       "      <td>NaN</td>\n",
       "      <td>NaN</td>\n",
       "      <td>NaN</td>\n",
       "      <td>4</td>\n",
       "      <td>16817</td>\n",
       "      <td>6965</td>\n",
       "    </tr>\n",
       "    <tr>\n",
       "      <th>mean</th>\n",
       "      <td>NaN</td>\n",
       "      <td>NaN</td>\n",
       "      <td>NaN</td>\n",
       "      <td>4.439208e+11</td>\n",
       "      <td>929.058837</td>\n",
       "      <td>1417.479883</td>\n",
       "      <td>NaN</td>\n",
       "      <td>NaN</td>\n",
       "      <td>NaN</td>\n",
       "    </tr>\n",
       "    <tr>\n",
       "      <th>std</th>\n",
       "      <td>NaN</td>\n",
       "      <td>NaN</td>\n",
       "      <td>NaN</td>\n",
       "      <td>5.708827e+09</td>\n",
       "      <td>729.566172</td>\n",
       "      <td>949.078217</td>\n",
       "      <td>NaN</td>\n",
       "      <td>NaN</td>\n",
       "      <td>NaN</td>\n",
       "    </tr>\n",
       "    <tr>\n",
       "      <th>min</th>\n",
       "      <td>NaN</td>\n",
       "      <td>NaN</td>\n",
       "      <td>NaN</td>\n",
       "      <td>4.200088e+11</td>\n",
       "      <td>75.000000</td>\n",
       "      <td>149.000000</td>\n",
       "      <td>NaN</td>\n",
       "      <td>NaN</td>\n",
       "      <td>NaN</td>\n",
       "    </tr>\n",
       "    <tr>\n",
       "      <th>25%</th>\n",
       "      <td>NaN</td>\n",
       "      <td>NaN</td>\n",
       "      <td>NaN</td>\n",
       "      <td>4.411146e+11</td>\n",
       "      <td>479.000000</td>\n",
       "      <td>799.000000</td>\n",
       "      <td>NaN</td>\n",
       "      <td>NaN</td>\n",
       "      <td>NaN</td>\n",
       "    </tr>\n",
       "    <tr>\n",
       "      <th>50%</th>\n",
       "      <td>NaN</td>\n",
       "      <td>NaN</td>\n",
       "      <td>NaN</td>\n",
       "      <td>4.411360e+11</td>\n",
       "      <td>734.000000</td>\n",
       "      <td>1299.000000</td>\n",
       "      <td>NaN</td>\n",
       "      <td>NaN</td>\n",
       "      <td>NaN</td>\n",
       "    </tr>\n",
       "    <tr>\n",
       "      <th>75%</th>\n",
       "      <td>NaN</td>\n",
       "      <td>NaN</td>\n",
       "      <td>NaN</td>\n",
       "      <td>4.501290e+11</td>\n",
       "      <td>1190.000000</td>\n",
       "      <td>1799.000000</td>\n",
       "      <td>NaN</td>\n",
       "      <td>NaN</td>\n",
       "      <td>NaN</td>\n",
       "    </tr>\n",
       "    <tr>\n",
       "      <th>max</th>\n",
       "      <td>NaN</td>\n",
       "      <td>NaN</td>\n",
       "      <td>NaN</td>\n",
       "      <td>4.608526e+11</td>\n",
       "      <td>16999.000000</td>\n",
       "      <td>19999.000000</td>\n",
       "      <td>NaN</td>\n",
       "      <td>NaN</td>\n",
       "      <td>NaN</td>\n",
       "    </tr>\n",
       "  </tbody>\n",
       "</table>\n",
       "</div>"
      ],
      "text/plain": [
       "            Brand                               Description  \\\n",
       "count       31018                                     31018   \n",
       "unique        191                                     11771   \n",
       "top     performax  Checked Slim Fit Shirt with Patch Pocket   \n",
       "freq         3020                                       553   \n",
       "mean          NaN                                       NaN   \n",
       "std           NaN                                       NaN   \n",
       "min           NaN                                       NaN   \n",
       "25%           NaN                                       NaN   \n",
       "50%           NaN                                       NaN   \n",
       "75%           NaN                                       NaN   \n",
       "max           NaN                                       NaN   \n",
       "\n",
       "                                                Image_URL    Product_ID  \\\n",
       "count                                               31018  3.101800e+04   \n",
       "unique                                              28942           NaN   \n",
       "top     https://assets.ajio.com/medias/sys_master/root...           NaN   \n",
       "freq                                                    4           NaN   \n",
       "mean                                                  NaN  4.439208e+11   \n",
       "std                                                   NaN  5.708827e+09   \n",
       "min                                                   NaN  4.200088e+11   \n",
       "25%                                                   NaN  4.411146e+11   \n",
       "50%                                                   NaN  4.411360e+11   \n",
       "75%                                                   NaN  4.501290e+11   \n",
       "max                                                   NaN  4.608526e+11   \n",
       "\n",
       "        Discount_Price (in Rs.)  Original_Price (in Rs.)  \\\n",
       "count              31018.000000             31018.000000   \n",
       "unique                      NaN                      NaN   \n",
       "top                         NaN                      NaN   \n",
       "freq                        NaN                      NaN   \n",
       "mean                 929.058837              1417.479883   \n",
       "std                  729.566172               949.078217   \n",
       "min                   75.000000               149.000000   \n",
       "25%                  479.000000               799.000000   \n",
       "50%                  734.000000              1299.000000   \n",
       "75%                 1190.000000              1799.000000   \n",
       "max                16999.000000             19999.000000   \n",
       "\n",
       "                                              Product_URL Category_by_gender  \\\n",
       "count                                               31018              31018   \n",
       "unique                                              28941                  2   \n",
       "top     https://trends.ajio.com/performax-washable-per...              Women   \n",
       "freq                                                    4              16817   \n",
       "mean                                                  NaN                NaN   \n",
       "std                                                   NaN                NaN   \n",
       "min                                                   NaN                NaN   \n",
       "25%                                                   NaN                NaN   \n",
       "50%                                                   NaN                NaN   \n",
       "75%                                                   NaN                NaN   \n",
       "max                                                   NaN                NaN   \n",
       "\n",
       "       Category  \n",
       "count     31018  \n",
       "unique        9  \n",
       "top     Topwear  \n",
       "freq       6965  \n",
       "mean        NaN  \n",
       "std         NaN  \n",
       "min         NaN  \n",
       "25%         NaN  \n",
       "50%         NaN  \n",
       "75%         NaN  \n",
       "max         NaN  "
      ]
     },
     "execution_count": 18,
     "metadata": {},
     "output_type": "execute_result"
    }
   ],
   "source": [
    "# Getting overall statistic about the data frame \n",
    "df.describe(include='all')"
   ]
  },
  {
   "cell_type": "code",
   "execution_count": 19,
   "id": "78713bbb",
   "metadata": {},
   "outputs": [
    {
     "data": {
      "text/html": [
       "<div>\n",
       "<style scoped>\n",
       "    .dataframe tbody tr th:only-of-type {\n",
       "        vertical-align: middle;\n",
       "    }\n",
       "\n",
       "    .dataframe tbody tr th {\n",
       "        vertical-align: top;\n",
       "    }\n",
       "\n",
       "    .dataframe thead th {\n",
       "        text-align: right;\n",
       "    }\n",
       "</style>\n",
       "<table border=\"1\" class=\"dataframe\">\n",
       "  <thead>\n",
       "    <tr style=\"text-align: right;\">\n",
       "      <th></th>\n",
       "      <th>Brand</th>\n",
       "      <th>Description</th>\n",
       "      <th>Image_URL</th>\n",
       "      <th>Product_ID</th>\n",
       "      <th>Discount_Price (in Rs.)</th>\n",
       "      <th>Original_Price (in Rs.)</th>\n",
       "      <th>Product_URL</th>\n",
       "      <th>Category_by_gender</th>\n",
       "      <th>Category</th>\n",
       "    </tr>\n",
       "  </thead>\n",
       "  <tbody>\n",
       "    <tr>\n",
       "      <th>0</th>\n",
       "      <td>performax</td>\n",
       "      <td>Typographic Print Track Pants with Insert Pockets</td>\n",
       "      <td>https://assets.ajio.com/medias/sys_master/root...</td>\n",
       "      <td>441136763008</td>\n",
       "      <td>974.0</td>\n",
       "      <td>1299.0</td>\n",
       "      <td>https://trends.ajio.com/performax-typographic-...</td>\n",
       "      <td>Men</td>\n",
       "      <td>Activewear</td>\n",
       "    </tr>\n",
       "    <tr>\n",
       "      <th>1</th>\n",
       "      <td>performax</td>\n",
       "      <td>Low-Top Lace-Up Sports Shoes</td>\n",
       "      <td>https://assets.ajio.com/medias/sys_master/root...</td>\n",
       "      <td>450137679013</td>\n",
       "      <td>1499.0</td>\n",
       "      <td>1499.0</td>\n",
       "      <td>https://trends.ajio.com/performax-low-top-lace...</td>\n",
       "      <td>Men</td>\n",
       "      <td>Activewear</td>\n",
       "    </tr>\n",
       "  </tbody>\n",
       "</table>\n",
       "</div>"
      ],
      "text/plain": [
       "       Brand                                        Description  \\\n",
       "0  performax  Typographic Print Track Pants with Insert Pockets   \n",
       "1  performax                       Low-Top Lace-Up Sports Shoes   \n",
       "\n",
       "                                           Image_URL    Product_ID  \\\n",
       "0  https://assets.ajio.com/medias/sys_master/root...  441136763008   \n",
       "1  https://assets.ajio.com/medias/sys_master/root...  450137679013   \n",
       "\n",
       "   Discount_Price (in Rs.)  Original_Price (in Rs.)  \\\n",
       "0                    974.0                   1299.0   \n",
       "1                   1499.0                   1499.0   \n",
       "\n",
       "                                         Product_URL Category_by_gender  \\\n",
       "0  https://trends.ajio.com/performax-typographic-...                Men   \n",
       "1  https://trends.ajio.com/performax-low-top-lace...                Men   \n",
       "\n",
       "     Category  \n",
       "0  Activewear  \n",
       "1  Activewear  "
      ]
     },
     "execution_count": 19,
     "metadata": {},
     "output_type": "execute_result"
    }
   ],
   "source": [
    "df.head(2)"
   ]
  },
  {
   "cell_type": "markdown",
   "id": "1314e46f",
   "metadata": {},
   "source": [
    "as we  see in our data set that the columns description , image_url and Product_url are not in use so we are going to drop those columns "
   ]
  },
  {
   "cell_type": "code",
   "execution_count": 20,
   "id": "d22eb3ff",
   "metadata": {},
   "outputs": [],
   "source": [
    "df=df.drop(['Description' , 'Image_URL' , 'Product_URL'] , axis=1)"
   ]
  },
  {
   "cell_type": "code",
   "execution_count": 21,
   "id": "b35cc05d",
   "metadata": {},
   "outputs": [
    {
     "data": {
      "text/html": [
       "<div>\n",
       "<style scoped>\n",
       "    .dataframe tbody tr th:only-of-type {\n",
       "        vertical-align: middle;\n",
       "    }\n",
       "\n",
       "    .dataframe tbody tr th {\n",
       "        vertical-align: top;\n",
       "    }\n",
       "\n",
       "    .dataframe thead th {\n",
       "        text-align: right;\n",
       "    }\n",
       "</style>\n",
       "<table border=\"1\" class=\"dataframe\">\n",
       "  <thead>\n",
       "    <tr style=\"text-align: right;\">\n",
       "      <th></th>\n",
       "      <th>Brand</th>\n",
       "      <th>Product_ID</th>\n",
       "      <th>Discount_Price (in Rs.)</th>\n",
       "      <th>Original_Price (in Rs.)</th>\n",
       "      <th>Category_by_gender</th>\n",
       "      <th>Category</th>\n",
       "    </tr>\n",
       "  </thead>\n",
       "  <tbody>\n",
       "    <tr>\n",
       "      <th>0</th>\n",
       "      <td>performax</td>\n",
       "      <td>441136763008</td>\n",
       "      <td>974.0</td>\n",
       "      <td>1299.0</td>\n",
       "      <td>Men</td>\n",
       "      <td>Activewear</td>\n",
       "    </tr>\n",
       "  </tbody>\n",
       "</table>\n",
       "</div>"
      ],
      "text/plain": [
       "       Brand    Product_ID  Discount_Price (in Rs.)  Original_Price (in Rs.)  \\\n",
       "0  performax  441136763008                    974.0                   1299.0   \n",
       "\n",
       "  Category_by_gender    Category  \n",
       "0                Men  Activewear  "
      ]
     },
     "execution_count": 21,
     "metadata": {},
     "output_type": "execute_result"
    }
   ],
   "source": [
    "df.head(1)"
   ]
  },
  {
   "cell_type": "markdown",
   "id": "d0affb4e",
   "metadata": {},
   "source": [
    " as we can see that our columns are sucessfully dropped "
   ]
  },
  {
   "cell_type": "code",
   "execution_count": 22,
   "id": "d61938eb",
   "metadata": {},
   "outputs": [
    {
     "data": {
      "text/plain": [
       "array(['Activewear', 'Bottomwear', 'Footwear', 'Innerwear', 'Topwear',\n",
       "       'Ethnicwear', 'Fusionwear', 'Lingerie', 'Westernwear'],\n",
       "      dtype=object)"
      ]
     },
     "execution_count": 22,
     "metadata": {},
     "output_type": "execute_result"
    }
   ],
   "source": [
    "df['Category'].unique()"
   ]
  },
  {
   "cell_type": "code",
   "execution_count": 23,
   "id": "9480c257",
   "metadata": {},
   "outputs": [
    {
     "data": {
      "image/png": "[encoded data removed]",
      "text/plain": [
       "<Figure size 432x288 with 1 Axes>"
      ]
     },
     "metadata": {
      "needs_background": "light"
     },
     "output_type": "display_data"
    }
   ],
   "source": [
    "df['Category'].value_counts().plot()\n",
    "plt.title('Quantity of items by Category wise')\n",
    "plt.xticks(rotation=90)\n",
    "plt.show()"
   ]
  },
  {
   "cell_type": "markdown",
   "id": "f25ccf13",
   "metadata": {},
   "source": [
    "As we can see that we have large number of TOpwear and lesss number of innerwear in the store "
   ]
  },
  {
   "cell_type": "code",
   "execution_count": 24,
   "id": "a6e8830e",
   "metadata": {},
   "outputs": [
    {
     "data": {
      "text/plain": [
       "<AxesSubplot:title={'center':'Original price vs Discounts'}, xlabel='Original_Price (in Rs.)', ylabel='Discount_Price (in Rs.)'>"
      ]
     },
     "execution_count": 24,
     "metadata": {},
     "output_type": "execute_result"
    },
    {
     "data": {
      "image/png": "[encoded data removed]",
      "text/plain": [
       "<Figure size 1440x504 with 1 Axes>"
      ]
     },
     "metadata": {
      "needs_background": "light"
     },
     "output_type": "display_data"
    }
   ],
   "source": [
    "plt.figure(figsize=(20,7))\n",
    "plt.title('Original price vs Discounts')\n",
    "sns.scatterplot(x=df['Original_Price (in Rs.)'],y=df['Discount_Price (in Rs.)'],data =  df,hue='Category_by_gender')"
   ]
  },
  {
   "cell_type": "code",
   "execution_count": 25,
   "id": "7229fa6d",
   "metadata": {},
   "outputs": [
    {
     "data": {
      "text/html": [
       "<div>\n",
       "<style scoped>\n",
       "    .dataframe tbody tr th:only-of-type {\n",
       "        vertical-align: middle;\n",
       "    }\n",
       "\n",
       "    .dataframe tbody tr th {\n",
       "        vertical-align: top;\n",
       "    }\n",
       "\n",
       "    .dataframe thead th {\n",
       "        text-align: right;\n",
       "    }\n",
       "</style>\n",
       "<table border=\"1\" class=\"dataframe\">\n",
       "  <thead>\n",
       "    <tr style=\"text-align: right;\">\n",
       "      <th></th>\n",
       "      <th>Brand</th>\n",
       "      <th>Product_ID</th>\n",
       "      <th>Discount_Price (in Rs.)</th>\n",
       "      <th>Original_Price (in Rs.)</th>\n",
       "      <th>Category_by_gender</th>\n",
       "      <th>Category</th>\n",
       "    </tr>\n",
       "  </thead>\n",
       "  <tbody>\n",
       "    <tr>\n",
       "      <th>31581</th>\n",
       "      <td>ajio</td>\n",
       "      <td>460328086001</td>\n",
       "      <td>1299.0</td>\n",
       "      <td>1299.0</td>\n",
       "      <td>Women</td>\n",
       "      <td>Westernwear</td>\n",
       "    </tr>\n",
       "  </tbody>\n",
       "</table>\n",
       "</div>"
      ],
      "text/plain": [
       "      Brand    Product_ID  Discount_Price (in Rs.)  Original_Price (in Rs.)  \\\n",
       "31581  ajio  460328086001                   1299.0                   1299.0   \n",
       "\n",
       "      Category_by_gender     Category  \n",
       "31581              Women  Westernwear  "
      ]
     },
     "execution_count": 25,
     "metadata": {},
     "output_type": "execute_result"
    }
   ],
   "source": [
    "df.tail(1)"
   ]
  },
  {
   "cell_type": "code",
   "execution_count": 26,
   "id": "47c090a5",
   "metadata": {
    "scrolled": true
   },
   "outputs": [
    {
     "data": {
      "image/png": "[encoded data removed]",
      "text/plain": [
       "<Figure size 1440x504 with 1 Axes>"
      ]
     },
     "metadata": {
      "needs_background": "light"
     },
     "output_type": "display_data"
    }
   ],
   "source": [
    "df1 = pd.pivot_table(df , values = 'Product_ID',index = ['Category'] , columns = ['Category_by_gender'] ,fill_value=0 , aggfunc = np.sum )\n",
    "df1.plot(kind = 'bar' , figsize = (20,7))\n",
    "plt.xticks(rotation = 105)\n",
    "plt.title(\"Available category in terms of Gender\")\n",
    "plt.show()"
   ]
  },
  {
   "cell_type": "markdown",
   "id": "b657e0eb",
   "metadata": {},
   "source": [
    "For this analysis we can clearly that the which item are  running out and which are not "
   ]
  },
  {
   "cell_type": "code",
   "execution_count": 32,
   "id": "f82c8cd3",
   "metadata": {},
   "outputs": [
    {
     "data": {
      "text/plain": [
       "<AxesSubplot:xlabel='Category', ylabel='Discount_Price (in Rs.)'>"
      ]
     },
     "execution_count": 32,
     "metadata": {},
     "output_type": "execute_result"
    },
    {
     "data": {
      "image/png": "[encoded data removed]",
      "text/plain": [
       "<Figure size 1800x576 with 1 Axes>"
      ]
     },
     "metadata": {
      "needs_background": "light"
     },
     "output_type": "display_data"
    }
   ],
   "source": [
    "plt.figure(figsize=(25,8))\n",
    "sns.boxplot(x=df['Category'] , y=df ['Discount_Price (in Rs.)'] )"
   ]
  },
  {
   "cell_type": "markdown",
   "id": "ae9e7dbe",
   "metadata": {},
   "source": [
    "we can clearly see that the foot wear has maximum discount as compared to other category "
   ]
  },
  {
   "cell_type": "code",
   "execution_count": null,
   "id": "ae06b342",
   "metadata": {},
   "outputs": [],
   "source": []
  }
 ],
 "metadata": {
  "kernelspec": {
   "display_name": "Python 3 (ipykernel)",
   "language": "python",
   "name": "python3"
  },
  "language_info": {
   "codemirror_mode": {
    "name": "ipython",
    "version": 3
   },
   "file_extension": ".py",
   "mimetype": "text/x-python",
   "name": "python",
   "nbconvert_exporter": "python",
   "pygments_lexer": "ipython3",
   "version": "3.9.12"
  }
 },
 "nbformat": 4,
 "nbformat_minor": 5
}
